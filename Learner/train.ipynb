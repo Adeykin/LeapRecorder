{
 "cells": [
  {
   "cell_type": "code",
   "execution_count": 113,
   "metadata": {
    "collapsed": true
   },
   "outputs": [],
   "source": [
    "import pandas as pd\n",
    "import numpy as np\n",
    "\n",
    "import sklearn\n",
    "from sklearn import tree, svm\n",
    "from sklearn.neighbors import KNeighborsClassifier\n",
    "from sklearn.naive_bayes import GaussianNB\n",
    "from sklearn.externals import joblib\n",
    "\n",
    "import matplotlib.pyplot as plt\n",
    "\n",
    "%matplotlib inline "
   ]
  },
  {
   "cell_type": "markdown",
   "metadata": {},
   "source": [
    "# Loading data"
   ]
  },
  {
   "cell_type": "code",
   "execution_count": 133,
   "metadata": {
    "collapsed": true
   },
   "outputs": [],
   "source": [
    "def readData(path):\n",
    "    data = pandas.read_csv(path, sep=';', header=None)\n",
    "    \n",
    "    labels = data[[0]].stack().unique()\n",
    "\n",
    "    num = data[0].value_counts().min()\n",
    "    subsets = []\n",
    "    \n",
    "    print \"examples per class: \" + str(num)\n",
    "\n",
    "    for l in labels:\n",
    "        subsets.append( data[data[0] == l].sample(n=num) )\n",
    "\n",
    "    dataPrepared = pd.concat(subsets)\n",
    "    \n",
    "    dataPrepared.to_csv('1.csv')\n",
    "    \n",
    "    Y = dataPrepared[[0]].values\n",
    "    X = dataPrepared[range(1,43)].values\n",
    "    \n",
    "    return X, Y\n",
    "    "
   ]
  },
  {
   "cell_type": "code",
   "execution_count": 134,
   "metadata": {
    "collapsed": false
   },
   "outputs": [
    {
     "name": "stdout",
     "output_type": "stream",
     "text": [
      "examples per class: 382\n"
     ]
    }
   ],
   "source": [
    "inputTrainPath = \"/home/adeykin/projects/LeapRecorder/features6.csv\"\n",
    "X_train, Y_train = readData(inputTrainPath)"
   ]
  },
  {
   "cell_type": "code",
   "execution_count": 135,
   "metadata": {
    "collapsed": false
   },
   "outputs": [
    {
     "name": "stdout",
     "output_type": "stream",
     "text": [
      "examples per class: 161\n"
     ]
    }
   ],
   "source": [
    "inputTestPath = \"/home/adeykin/projects/LeapRecorder/features7.csv\"\n",
    "X_test, Y_test = readData(inputTestPath)"
   ]
  },
  {
   "cell_type": "markdown",
   "metadata": {},
   "source": [
    "# Train"
   ]
  },
  {
   "cell_type": "code",
   "execution_count": 136,
   "metadata": {
    "collapsed": false
   },
   "outputs": [],
   "source": [
    "#X_train, X_test, Y_train, Y_test = sklearn.model_selection.train_test_split(X, Y, test_size=0.30, random_state=42)\n",
    "Y_train = Y_train.ravel()\n",
    "Y_test = Y_test.ravel()"
   ]
  },
  {
   "cell_type": "code",
   "execution_count": 144,
   "metadata": {
    "collapsed": false
   },
   "outputs": [
    {
     "name": "stdout",
     "output_type": "stream",
     "text": [
      "KNN learning succesfull finished 1\n",
      "             precision    recall  f1-score   support\n",
      "\n",
      "          1       0.41      0.85      0.55       161\n",
      "          3       0.78      0.65      0.71       161\n",
      "          4       0.77      1.00      0.87       161\n",
      "          6       1.00      0.69      0.82       161\n",
      "          9       0.55      0.81      0.66       161\n",
      "         12       1.00      0.83      0.91       161\n",
      "         13       0.77      0.86      0.81       161\n",
      "         14       0.99      0.79      0.88       161\n",
      "         15       1.00      1.00      1.00       161\n",
      "         16       0.77      0.85      0.81       161\n",
      "         17       0.60      0.32      0.41       161\n",
      "         18       1.00      1.00      1.00       161\n",
      "         19       0.67      0.65      0.66       161\n",
      "         20       0.96      1.00      0.98       161\n",
      "         21       0.82      1.00      0.90       161\n",
      "         22       0.78      0.30      0.44       161\n",
      "         25       1.00      1.00      1.00       161\n",
      "         28       0.97      0.37      0.53       161\n",
      "         30       0.73      0.92      0.82       161\n",
      "         31       1.00      1.00      1.00       161\n",
      "         32       1.00      1.00      1.00       161\n",
      "\n",
      "avg / total       0.84      0.80      0.80      3381\n",
      "\n",
      "KNN learning succesfull finished 2\n",
      "             precision    recall  f1-score   support\n",
      "\n",
      "          1       0.41      0.85      0.55       161\n",
      "          3       0.78      0.65      0.71       161\n",
      "          4       0.77      1.00      0.87       161\n",
      "          6       1.00      0.69      0.82       161\n",
      "          9       0.55      0.81      0.66       161\n",
      "         12       1.00      0.83      0.91       161\n",
      "         13       0.76      0.86      0.81       161\n",
      "         14       0.99      0.79      0.88       161\n",
      "         15       1.00      1.00      1.00       161\n",
      "         16       0.77      0.86      0.81       161\n",
      "         17       0.60      0.32      0.41       161\n",
      "         18       1.00      1.00      1.00       161\n",
      "         19       0.67      0.64      0.66       161\n",
      "         20       0.96      1.00      0.98       161\n",
      "         21       0.82      1.00      0.90       161\n",
      "         22       0.78      0.30      0.44       161\n",
      "         25       1.00      1.00      1.00       161\n",
      "         28       0.97      0.37      0.53       161\n",
      "         30       0.73      0.92      0.82       161\n",
      "         31       1.00      1.00      1.00       161\n",
      "         32       1.00      1.00      1.00       161\n",
      "\n",
      "avg / total       0.84      0.80      0.80      3381\n",
      "\n",
      "KNN learning succesfull finished 3\n",
      "             precision    recall  f1-score   support\n",
      "\n",
      "          1       0.41      0.85      0.55       161\n",
      "          3       0.78      0.63      0.70       161\n",
      "          4       0.76      1.00      0.87       161\n",
      "          6       1.00      0.69      0.82       161\n",
      "          9       0.55      0.81      0.66       161\n",
      "         12       1.00      0.83      0.91       161\n",
      "         13       0.76      0.82      0.79       161\n",
      "         14       0.99      0.79      0.88       161\n",
      "         15       1.00      1.00      1.00       161\n",
      "         16       0.77      0.86      0.81       161\n",
      "         17       0.60      0.32      0.41       161\n",
      "         18       1.00      1.00      1.00       161\n",
      "         19       0.65      0.65      0.65       161\n",
      "         20       0.96      1.00      0.98       161\n",
      "         21       0.82      0.99      0.90       161\n",
      "         22       0.78      0.30      0.44       161\n",
      "         25       1.00      1.00      1.00       161\n",
      "         28       0.97      0.37      0.53       161\n",
      "         30       0.73      0.92      0.82       161\n",
      "         31       0.99      1.00      1.00       161\n",
      "         32       1.00      1.00      1.00       161\n",
      "\n",
      "avg / total       0.83      0.80      0.80      3381\n",
      "\n"
     ]
    }
   ],
   "source": [
    "for i in range(1,4):            \n",
    "    classifier = KNeighborsClassifier(n_neighbors=i)\n",
    "    classifier = classifier.fit(X_train, Y_train)    \n",
    "    print \"KNN learning succesfull finished \" + str(i)\n",
    "    #Y_train_actual = classifier.predict(X_train)\n",
    "    Y_test_actual  = classifier.predict(X_test)\n",
    "\n",
    "    print sklearn.metrics.classification_report(Y_test, Y_test_actual)\n",
    "    #sklearn.metrics.average_precision_score(Y_test, Y_test_actual)\n",
    "        "
   ]
  },
  {
   "cell_type": "code",
   "execution_count": 143,
   "metadata": {
    "collapsed": false
   },
   "outputs": [
    {
     "name": "stdout",
     "output_type": "stream",
     "text": [
      "Gauss learning succesfull finished \n",
      "             precision    recall  f1-score   support\n",
      "\n",
      "          1       0.99      0.83      0.90       161\n",
      "          3       1.00      0.35      0.52       161\n",
      "          4       0.99      1.00      1.00       161\n",
      "          6       0.00      0.00      0.00       161\n",
      "          9       1.00      0.29      0.44       161\n",
      "         12       0.00      0.00      0.00       161\n",
      "         13       0.30      0.47      0.36       161\n",
      "         14       1.00      0.99      1.00       161\n",
      "         15       1.00      1.00      1.00       161\n",
      "         16       0.41      0.70      0.52       161\n",
      "         17       0.04      0.02      0.03       161\n",
      "         18       1.00      1.00      1.00       161\n",
      "         19       0.13      0.08      0.10       161\n",
      "         20       1.00      1.00      1.00       161\n",
      "         21       1.00      0.53      0.70       161\n",
      "         22       0.29      0.35      0.32       161\n",
      "         25       1.00      1.00      1.00       161\n",
      "         28       0.13      0.47      0.21       161\n",
      "         30       0.55      0.92      0.69       161\n",
      "         31       1.00      1.00      1.00       161\n",
      "         32       1.00      1.00      1.00       161\n",
      "\n",
      "avg / total       0.66      0.62      0.61      3381\n",
      "\n"
     ]
    }
   ],
   "source": [
    "classifier = GaussianNB()\n",
    "classifier = classifier.fit(X_train, Y_train)    \n",
    "print \"Gauss learning succesfull finished \"\n",
    "#Y_train_actual = classifier.predict(X_train)\n",
    "Y_test_actual  = classifier.predict(X_test)\n",
    "\n",
    "print sklearn.metrics.classification_report(Y_test, Y_test_actual)"
   ]
  },
  {
   "cell_type": "code",
   "execution_count": 137,
   "metadata": {
    "collapsed": false
   },
   "outputs": [
    {
     "name": "stdout",
     "output_type": "stream",
     "text": [
      "SVC learning succesfull finished \n",
      "             precision    recall  f1-score   support\n",
      "\n",
      "          1       1.00      0.73      0.85       161\n",
      "          3       0.90      0.52      0.66       161\n",
      "          4       1.00      1.00      1.00       161\n",
      "          6       0.00      0.00      0.00       161\n",
      "          9       0.54      0.76      0.63       161\n",
      "         12       1.00      0.02      0.04       161\n",
      "         13       0.83      1.00      0.91       161\n",
      "         14       1.00      0.76      0.86       161\n",
      "         15       0.30      1.00      0.47       161\n",
      "         16       0.47      0.87      0.61       161\n",
      "         17       0.27      0.33      0.30       161\n",
      "         18       1.00      0.98      0.99       161\n",
      "         19       0.93      0.61      0.74       161\n",
      "         20       1.00      1.00      1.00       161\n",
      "         21       1.00      0.75      0.85       161\n",
      "         22       0.68      0.26      0.38       161\n",
      "         25       1.00      1.00      1.00       161\n",
      "         28       0.33      0.37      0.35       161\n",
      "         30       0.86      0.91      0.89       161\n",
      "         31       1.00      1.00      1.00       161\n",
      "         32       1.00      1.00      1.00       161\n",
      "\n",
      "avg / total       0.77      0.71      0.69      3381\n",
      "\n"
     ]
    },
    {
     "name": "stderr",
     "output_type": "stream",
     "text": [
      "/usr/local/lib/python2.7/dist-packages/sklearn/metrics/classification.py:1113: UndefinedMetricWarning: Precision and F-score are ill-defined and being set to 0.0 in labels with no predicted samples.\n",
      "  'precision', 'predicted', average, warn_for)\n"
     ]
    }
   ],
   "source": [
    "classifier = svm.SVC()\n",
    "classifier = classifier.fit(X_train, Y_train)    \n",
    "print \"SVC learning succesfull finished \"\n",
    "#Y_train_actual = classifier.predict(X_train)\n",
    "Y_test_actual  = classifier.predict(X_test)\n",
    "\n",
    "print sklearn.metrics.classification_report(Y_test, Y_test_actual)"
   ]
  },
  {
   "cell_type": "code",
   "execution_count": 138,
   "metadata": {
    "collapsed": false
   },
   "outputs": [
    {
     "name": "stdout",
     "output_type": "stream",
     "text": [
      "NuSVC learning succesfull finished \n",
      "             precision    recall  f1-score   support\n",
      "\n",
      "          1       1.00      0.69      0.82       161\n",
      "          3       0.56      0.50      0.53       161\n",
      "          4       1.00      1.00      1.00       161\n",
      "          6       0.00      0.00      0.00       161\n",
      "          9       0.39      0.41      0.40       161\n",
      "         12       1.00      0.85      0.92       161\n",
      "         13       0.36      0.11      0.17       161\n",
      "         14       0.82      0.20      0.33       161\n",
      "         15       0.14      1.00      0.25       161\n",
      "         16       0.80      0.60      0.69       161\n",
      "         17       0.16      0.18      0.17       161\n",
      "         18       1.00      1.00      1.00       161\n",
      "         19       0.27      0.08      0.12       161\n",
      "         20       0.99      1.00      0.99       161\n",
      "         21       1.00      0.43      0.61       161\n",
      "         22       0.60      0.30      0.40       161\n",
      "         25       1.00      1.00      1.00       161\n",
      "         28       0.36      0.16      0.22       161\n",
      "         30       0.88      0.91      0.90       161\n",
      "         31       1.00      0.86      0.93       161\n",
      "         32       1.00      0.47      0.64       161\n",
      "\n",
      "avg / total       0.68      0.56      0.58      3381\n",
      "\n"
     ]
    }
   ],
   "source": [
    "classifier = svm.NuSVC()\n",
    "classifier = classifier.fit(X_train, Y_train)    \n",
    "print \"NuSVC learning succesfull finished \"\n",
    "#Y_train_actual = classifier.predict(X_train)\n",
    "Y_test_actual  = classifier.predict(X_test)\n",
    "\n",
    "print sklearn.metrics.classification_report(Y_test, Y_test_actual)"
   ]
  },
  {
   "cell_type": "code",
   "execution_count": 142,
   "metadata": {
    "collapsed": false
   },
   "outputs": [
    {
     "name": "stdout",
     "output_type": "stream",
     "text": [
      "Linear SVC learning succesfull finished \n",
      "             precision    recall  f1-score   support\n",
      "\n",
      "          1       0.59      0.92      0.72       161\n",
      "          3       0.59      0.48      0.53       161\n",
      "          4       1.00      0.94      0.97       161\n",
      "          6       1.00      0.68      0.81       161\n",
      "          9       0.48      0.84      0.61       161\n",
      "         12       0.12      0.08      0.10       161\n",
      "         13       0.85      0.66      0.75       161\n",
      "         14       0.91      0.85      0.88       161\n",
      "         15       1.00      0.86      0.92       161\n",
      "         16       0.41      0.84      0.55       161\n",
      "         17       0.18      0.04      0.06       161\n",
      "         18       1.00      0.98      0.99       161\n",
      "         19       0.48      0.61      0.54       161\n",
      "         20       1.00      1.00      1.00       161\n",
      "         21       0.76      0.96      0.85       161\n",
      "         22       1.00      0.02      0.05       161\n",
      "         25       0.80      1.00      0.89       161\n",
      "         28       0.88      0.45      0.59       161\n",
      "         30       0.57      1.00      0.73       161\n",
      "         31       0.95      0.66      0.78       161\n",
      "         32       1.00      1.00      1.00       161\n",
      "\n",
      "avg / total       0.74      0.71      0.68      3381\n",
      "\n"
     ]
    },
    {
     "data": {
      "text/plain": [
       "([<matplotlib.axis.YTick at 0x7fcbeccfb610>,\n",
       "  <matplotlib.axis.YTick at 0x7fcbeccfbb10>,\n",
       "  <matplotlib.axis.YTick at 0x7fcbecc5fd10>,\n",
       "  <matplotlib.axis.YTick at 0x7fcbecc1f490>,\n",
       "  <matplotlib.axis.YTick at 0x7fcbecc1f990>,\n",
       "  <matplotlib.axis.YTick at 0x7fcbecc34d50>,\n",
       "  <matplotlib.axis.YTick at 0x7fcbecc29910>,\n",
       "  <matplotlib.axis.YTick at 0x7fcbecc4b210>,\n",
       "  <matplotlib.axis.YTick at 0x7fcbecc4b950>,\n",
       "  <matplotlib.axis.YTick at 0x7fcbecbd40d0>,\n",
       "  <matplotlib.axis.YTick at 0x7fcbecbd4810>,\n",
       "  <matplotlib.axis.YTick at 0x7fcbecbd4f50>,\n",
       "  <matplotlib.axis.YTick at 0x7fcbecbde6d0>,\n",
       "  <matplotlib.axis.YTick at 0x7fcbecbdee10>,\n",
       "  <matplotlib.axis.YTick at 0x7fcbecbe8590>,\n",
       "  <matplotlib.axis.YTick at 0x7fcbecbe8cd0>,\n",
       "  <matplotlib.axis.YTick at 0x7fcbecbf2450>,\n",
       "  <matplotlib.axis.YTick at 0x7fcbecbf2b90>,\n",
       "  <matplotlib.axis.YTick at 0x7fcbecbfb310>,\n",
       "  <matplotlib.axis.YTick at 0x7fcbecbfba50>],\n",
       " <a list of 20 Text yticklabel objects>)"
      ]
     },
     "execution_count": 142,
     "metadata": {},
     "output_type": "execute_result"
    },
    {
     "data": {
      "image/png": "[encoded data removed]",
      "text/plain": [
       "<matplotlib.figure.Figure at 0x7fcbefab9c10>"
      ]
     },
     "metadata": {},
     "output_type": "display_data"
    }
   ],
   "source": [
    "classifier = svm.LinearSVC()\n",
    "classifier = classifier.fit(X_train, Y_train)    \n",
    "print \"Linear SVC learning succesfull finished \"\n",
    "#Y_train_actual = classifier.predict(X_train)\n",
    "Y_test_actual  = classifier.predict(X_test)\n",
    "\n",
    "print sklearn.metrics.classification_report(Y_test, Y_test_actual)\n",
    "\n",
    "cm = sklearn.metrics.confusion_matrix(Y_test, Y_test_actual)\n",
    "\n",
    "#normalization\n",
    "cm = cm.astype('float') / cm.sum(axis=1)[:, np.newaxis]\n",
    "\n",
    "classes = [1,3,4,6,9,12,13,14,15,16,17,18,19,21,22,25,28,30,31,32]\n",
    "tick_marks = np.arange(len(classes))\n",
    "\n",
    "plt.imshow(cm, interpolation='nearest', cmap=plt.cm.Blues)\n",
    "plt.xticks(tick_marks, classes)\n",
    "plt.yticks(tick_marks, classes)"
   ]
  },
  {
   "cell_type": "code",
   "execution_count": 140,
   "metadata": {
    "collapsed": false
   },
   "outputs": [
    {
     "name": "stdout",
     "output_type": "stream",
     "text": [
      "Linear SVC learning succesfull finished \n",
      "             precision    recall  f1-score   support\n",
      "\n",
      "          1       0.53      0.82      0.65       161\n",
      "          3       1.00      0.81      0.90       161\n",
      "          4       0.88      1.00      0.94       161\n",
      "          6       1.00      0.04      0.07       161\n",
      "          9       0.96      0.57      0.72       161\n",
      "         12       0.00      0.00      0.00       161\n",
      "         13       0.52      1.00      0.69       161\n",
      "         14       0.52      1.00      0.69       161\n",
      "         15       1.00      1.00      1.00       161\n",
      "         16       0.46      0.86      0.60       161\n",
      "         17       0.64      1.00      0.78       161\n",
      "         18       0.88      1.00      0.94       161\n",
      "         19       1.00      0.08      0.15       161\n",
      "         20       1.00      0.56      0.72       161\n",
      "         21       1.00      0.66      0.80       161\n",
      "         22       0.06      0.04      0.05       161\n",
      "         25       0.98      1.00      0.99       161\n",
      "         28       1.00      1.00      1.00       161\n",
      "         30       0.47      0.60      0.52       161\n",
      "         31       0.60      0.68      0.64       161\n",
      "         32       0.87      1.00      0.93       161\n",
      "\n",
      "avg / total       0.73      0.70      0.65      3381\n",
      "\n"
     ]
    }
   ],
   "source": [
    "classifier = tree.DecisionTreeClassifier()\n",
    "classifier = classifier.fit(X_train, Y_train)    \n",
    "print \"Linear SVC learning succesfull finished \"\n",
    "#Y_train_actual = classifier.predict(X_train)\n",
    "Y_test_actual  = classifier.predict(X_test)\n",
    "\n",
    "print sklearn.metrics.classification_report(Y_test, Y_test_actual)\n",
    "\n"
   ]
  }
 ],
 "metadata": {
  "kernelspec": {
   "display_name": "Python 2",
   "language": "python",
   "name": "python2"
  },
  "language_info": {
   "codemirror_mode": {
    "name": "ipython",
    "version": 2
   },
   "file_extension": ".py",
   "mimetype": "text/x-python",
   "name": "python",
   "nbconvert_exporter": "python",
   "pygments_lexer": "ipython2",
   "version": "2.7.12"
  }
 },
 "nbformat": 4,
 "nbformat_minor": 2
}
